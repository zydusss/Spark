{
 "cells": [
  {
   "cell_type": "markdown",
   "metadata": {},
   "source": [
    "The notebook illustrates pyspark examples for creating Spark Dataframe from \n",
    "\n",
    "* Text files\n",
    "* Postgres DB\n",
    "* In Memory data\n",
    "* RDD\n",
    "\n",
    "DataFrames\tare\tthe\tmain\tabstraction\tin\tSpark\tSQL\n",
    "\n",
    "* Analogous\tto\tRDDs\tin\tcore\tSpark\n",
    "* A\tdistributed\tcollection\tof\tstructured\tdata\torganized\tinto\tnamed\tcolumns\n",
    "* Built\ton\ta\tbase\tRDD\tcontaining\tRow objects\n"
   ]
  },
  {
   "cell_type": "code",
   "execution_count": 1,
   "metadata": {
    "collapsed": true
   },
   "outputs": [],
   "source": [
    "import os\n",
    "import sys\n",
    "os.environ[\"SPARK_HOME\"] = \"/home/rahul/spark_raw/spark-2.1.0-bin-hadoop2.7/\"\n",
    "os.environ[\"PYLIB\"] = os.environ[\"SPARK_HOME\"] + \"/python/lib\"\n",
    "sys.path.insert(0, os.environ[\"PYLIB\"] +\"/py4j-0.8.2.1-src.zip\")\n",
    "sys.path.insert(0, os.environ[\"PYLIB\"] +\"/pyspark.zip\")"
   ]
  },
  {
   "cell_type": "code",
   "execution_count": 2,
   "metadata": {
    "collapsed": true
   },
   "outputs": [],
   "source": [
    "pyspark_submit_args = os.environ.get(\"PYSPARK_SUBMIT_ARGS\", \"\")\n",
    "if not \"pyspark-shell\" in pyspark_submit_args: pyspark_submit_args += \" pyspark-shell\"\n",
    "os.environ[\"PYSPARK_SUBMIT_ARGS\"] = pyspark_submit_args"
   ]
  },
  {
   "cell_type": "code",
   "execution_count": 3,
   "metadata": {
    "collapsed": false
   },
   "outputs": [],
   "source": [
    "from pyspark import SparkContext, SparkConf, SQLContext\n",
    "import pandas as pd\n",
    "from odo import odo"
   ]
  },
  {
   "cell_type": "code",
   "execution_count": 4,
   "metadata": {
    "collapsed": false
   },
   "outputs": [],
   "source": [
    "sc=SparkContext(appName=\"TestApp\")"
   ]
  },
  {
   "cell_type": "code",
   "execution_count": 9,
   "metadata": {
    "collapsed": false
   },
   "outputs": [
    {
     "name": "stdout",
     "output_type": "stream",
     "text": [
      "2.1.0\n"
     ]
    }
   ],
   "source": [
    "print sc.version"
   ]
  },
  {
   "cell_type": "code",
   "execution_count": 5,
   "metadata": {
    "collapsed": false
   },
   "outputs": [
    {
     "name": "stdout",
     "output_type": "stream",
     "text": [
      "Application Id : local-1492655689444\n",
      "Application Name : TestApp\n"
     ]
    }
   ],
   "source": [
    "print 'Application Id : ' + str(sc.applicationId)\n",
    "print 'Application Name : ' + str(sc.appName)"
   ]
  },
  {
   "cell_type": "markdown",
   "metadata": {},
   "source": [
    "### Create an RDD from local text file"
   ]
  },
  {
   "cell_type": "code",
   "execution_count": 10,
   "metadata": {
    "collapsed": false
   },
   "outputs": [],
   "source": [
    "tweetsFromFile = sc.textFile(\"/home/rahul/datasets/tweets.txt\")"
   ]
  },
  {
   "cell_type": "markdown",
   "metadata": {},
   "source": [
    "### RDD Operations : Transformations & Actions\n",
    "\n",
    "RDD Operations are broadly classified as \n",
    "* Transformations : define a new RDD based on the current one(s)\n",
    "* Actions : return values\n",
    "\n",
    "#### Actions\n",
    " \n",
    "* count() : returns the number of elements\n",
    "* take(n) : returns an array of the first n elements\n",
    "* collect() : return an array of all elements\n",
    "* saveAsTextFile(dir) : save to text file(s)  \n",
    "  etc..\n",
    "\n",
    "#### Transformations\n",
    " \n",
    "* map(function) : creates a new RDD by performing a function on each record in the base RDD\n",
    "* filter(n) : creates a new RDD by including or excluding each record in the base RDD according to a Boolean function\n",
    "\n"
   ]
  },
  {
   "cell_type": "markdown",
   "metadata": {},
   "source": [
    "Actions : Code Snippets"
   ]
  },
  {
   "cell_type": "code",
   "execution_count": 17,
   "metadata": {
    "collapsed": false
   },
   "outputs": [
    {
     "name": "stdout",
     "output_type": "stream",
     "text": [
      "Number of elements in tweets RDD : 4\n"
     ]
    }
   ],
   "source": [
    "print 'Number of elements in tweets RDD : ' + str(tweetsFromFile.count())"
   ]
  },
  {
   "cell_type": "code",
   "execution_count": 18,
   "metadata": {
    "collapsed": false
   },
   "outputs": [
    {
     "name": "stdout",
     "output_type": "stream",
     "text": [
      "Top 2 elements in tweet RDD\n"
     ]
    },
    {
     "data": {
      "text/plain": [
       "[u'Hello', u'How are you']"
      ]
     },
     "execution_count": 18,
     "metadata": {},
     "output_type": "execute_result"
    }
   ],
   "source": [
    "print 'Top 2 elements in tweet RDD'\n",
    "tweetsFromFile.take(2)"
   ]
  },
  {
   "cell_type": "code",
   "execution_count": 19,
   "metadata": {
    "collapsed": false
   },
   "outputs": [
    {
     "name": "stdout",
     "output_type": "stream",
     "text": [
      "Collect all elements from Tweets RDD (mind you its a costly operation if your RDD is huge !!!)\n"
     ]
    },
    {
     "data": {
      "text/plain": [
       "[u'Hello', u'How are you', u'I am fine', u'Thanks you']"
      ]
     },
     "execution_count": 19,
     "metadata": {},
     "output_type": "execute_result"
    }
   ],
   "source": [
    "print 'Collect all elements from Tweets RDD (mind you its a costly operation if your RDD is huge !!!)'\n",
    "tweetsFromFile.collect()"
   ]
  },
  {
   "cell_type": "code",
   "execution_count": 22,
   "metadata": {
    "collapsed": false
   },
   "outputs": [
    {
     "name": "stdout",
     "output_type": "stream",
     "text": [
      "Saving Tweets RDD to text file\n"
     ]
    }
   ],
   "source": [
    "print 'Saving Tweets RDD to text file'\n",
    "tweetsFromFile.saveAsTextFile(\"\\home\\rahul\\tweets.txt\")"
   ]
  },
  {
   "cell_type": "markdown",
   "metadata": {},
   "source": [
    "Transformations : Code Snippets\n",
    "\n",
    "Please Note \n",
    "\n",
    "* RDD's are immutable \n",
    "* Spark follows lazy execution : No action is performed on transformation unless an action is requested\n",
    "* When possible, Spark performs sequences of transformations by element so no data is stored"
   ]
  },
  {
   "cell_type": "code",
   "execution_count": 24,
   "metadata": {
    "collapsed": true
   },
   "outputs": [],
   "source": [
    "tweetsUpperRDD = tweetsFromFile.map(lambda line: line.upper())"
   ]
  },
  {
   "cell_type": "code",
   "execution_count": 26,
   "metadata": {
    "collapsed": false
   },
   "outputs": [
    {
     "data": {
      "text/plain": [
       "[u'HELLO', u'HOW ARE YOU', u'I AM FINE', u'THANKS YOU']"
      ]
     },
     "execution_count": 26,
     "metadata": {},
     "output_type": "execute_result"
    }
   ],
   "source": [
    "tweetsUpperRDD.take(4)"
   ]
  },
  {
   "cell_type": "markdown",
   "metadata": {},
   "source": [
    "Lets filter the RDD : Fetch elements containing \"YOU\" "
   ]
  },
  {
   "cell_type": "code",
   "execution_count": 31,
   "metadata": {
    "collapsed": true
   },
   "outputs": [],
   "source": [
    "FilteredtweetsUpperRDD = tweetsUpperRDD.filter(lambda line : line.find('YOU')>0)"
   ]
  },
  {
   "cell_type": "code",
   "execution_count": 32,
   "metadata": {
    "collapsed": false
   },
   "outputs": [
    {
     "data": {
      "text/plain": [
       "[u'HOW ARE YOU', u'THANKS YOU']"
      ]
     },
     "execution_count": 32,
     "metadata": {},
     "output_type": "execute_result"
    }
   ],
   "source": [
    "FilteredtweetsUpperRDD.collect()"
   ]
  },
  {
   "cell_type": "markdown",
   "metadata": {},
   "source": [
    "#### Spark\tuses\tfunctional\tprogramming\n",
    "* Passing\tfunctions\tas\tparameters\n",
    "* Anonymous\tfunctions\tin\tsupported\tlanguages\t(Python,\tScala,\tJava\t8)"
   ]
  },
  {
   "cell_type": "markdown",
   "metadata": {},
   "source": [
    "### Other general RDD Transformations "
   ]
  },
  {
   "cell_type": "markdown",
   "metadata": {},
   "source": [
    "<h3><font color = blue> FlatMap </font></h3> Maps\tone\telement\tin\tthe\tbase\tRDD\tto\tmultiple\telements"
   ]
  },
  {
   "cell_type": "code",
   "execution_count": null,
   "metadata": {
    "collapsed": true
   },
   "outputs": [],
   "source": []
  },
  {
   "cell_type": "markdown",
   "metadata": {},
   "source": [
    "<h3><font color = blue> Distinct </font></h3>Filters out duplicates"
   ]
  },
  {
   "cell_type": "code",
   "execution_count": null,
   "metadata": {
    "collapsed": true
   },
   "outputs": [],
   "source": []
  },
  {
   "cell_type": "markdown",
   "metadata": {},
   "source": [
    "<h3><font color = blue> SortBy </font></h3> Sort the elements"
   ]
  },
  {
   "cell_type": "code",
   "execution_count": null,
   "metadata": {
    "collapsed": true
   },
   "outputs": [],
   "source": []
  },
  {
   "cell_type": "markdown",
   "metadata": {},
   "source": [
    "### Multi RDD transformations"
   ]
  },
  {
   "cell_type": "markdown",
   "metadata": {},
   "source": [
    "<h3><font color = blue> Intersection </font></h3> Creates a new RDD with all elements in both original RDDs"
   ]
  },
  {
   "cell_type": "code",
   "execution_count": null,
   "metadata": {
    "collapsed": true
   },
   "outputs": [],
   "source": []
  },
  {
   "cell_type": "markdown",
   "metadata": {},
   "source": [
    "<h3><font color = blue> Union </font></h3> Adds all elements of two RDDs into a single RDD"
   ]
  },
  {
   "cell_type": "code",
   "execution_count": null,
   "metadata": {
    "collapsed": true
   },
   "outputs": [],
   "source": []
  },
  {
   "cell_type": "markdown",
   "metadata": {},
   "source": [
    "<h3><font color = blue> Zip </font></h3> Pairs each element of the first RDD with the corresponding element of the second"
   ]
  },
  {
   "cell_type": "code",
   "execution_count": null,
   "metadata": {
    "collapsed": true
   },
   "outputs": [],
   "source": []
  },
  {
   "cell_type": "markdown",
   "metadata": {},
   "source": [
    "<h3><font color = blue> Subtract </font></h3> Removes the elements in the second RDD from the first RDD"
   ]
  },
  {
   "cell_type": "code",
   "execution_count": null,
   "metadata": {
    "collapsed": true
   },
   "outputs": [],
   "source": []
  }
 ],
 "metadata": {
  "kernelspec": {
   "display_name": "Python 2",
   "language": "python",
   "name": "python2"
  },
  "language_info": {
   "codemirror_mode": {
    "name": "ipython",
    "version": 2
   },
   "file_extension": ".py",
   "mimetype": "text/x-python",
   "name": "python",
   "nbconvert_exporter": "python",
   "pygments_lexer": "ipython2",
   "version": "2.7.13"
  }
 },
 "nbformat": 4,
 "nbformat_minor": 2
}
